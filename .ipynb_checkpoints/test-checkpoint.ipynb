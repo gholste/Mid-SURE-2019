{
 "cells": [
  {
   "cell_type": "markdown",
   "metadata": {},
   "source": [
    "# Semantic Segmentation of Pediatric Chest Radiographs <br><sub> Greg Holste (holste1@kenyon.edu) | [Poster for download](HolsteMidSURE.pdf)</sub>"
   ]
  },
  {
   "cell_type": "markdown",
   "metadata": {},
   "source": [
    "### Goal -- segment chest into 8 regions:\n",
    "* spine\n",
    "* left & right lung\n",
    "* left & right subdiaphragm\n",
    "    - area under lungs in abdomen\n",
    "* mediastinum\n",
    "    - area of tissue between lungs\n",
    "* carina\n",
    "    - small point where trachea splits into each bronchus\n",
    "\n",
    "\n",
    "### Trained a U-Net (~8 million learnable paramters) on 328 labeled radiographs, validated on 71, and tested on 70. Augmentation consisted of a random elastic deformation (warp on 2D grid) followed by a random rotation from -15° to 15°, increasing the size of the training set 4-fold.\n"
   ]
  },
  {
   "cell_type": "markdown",
   "metadata": {},
   "source": [
    "#### Some good predictions...\n",
    "![im1](Good/22.png)\n",
    "![im1](Good/30.png)\n",
    "![im1](Good/37.png)\n",
    "![im1](Good/40.png)\n",
    "![im1](Good/42.png)\n",
    "![im1](Good/44.png)\n",
    "\n",
    "\n",
    "\n",
    "#### Some more questionable predictions...\n",
    "\n",
    "\n",
    "#### Some poor predictions..."
   ]
  },
  {
   "cell_type": "code",
   "execution_count": null,
   "metadata": {},
   "outputs": [],
   "source": []
  }
 ],
 "metadata": {
  "kernelspec": {
   "display_name": "Python 3",
   "language": "python",
   "name": "python3"
  },
  "language_info": {
   "codemirror_mode": {
    "name": "ipython",
    "version": 3
   },
   "file_extension": ".py",
   "mimetype": "text/x-python",
   "name": "python",
   "nbconvert_exporter": "python",
   "pygments_lexer": "ipython3",
   "version": "3.7.3"
  }
 },
 "nbformat": 4,
 "nbformat_minor": 2
}
