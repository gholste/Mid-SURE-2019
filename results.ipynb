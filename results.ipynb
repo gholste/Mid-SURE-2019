{
 "cells": [
  {
   "cell_type": "markdown",
   "metadata": {},
   "source": [
    "# Semantic Segmentation of Pediatric Chest Radiographs <br><sub> Greg Holste (<a href=\"mailto:holste1@kenyon.edu\">holste1@kenyon.edu</a>) | <a href=\"https://github.com/holste1/Mid-SURE/raw/master/FinalHolsteMidSURE.pdf\">Poster for download</a></sub>"
   ]
  },
  {
   "cell_type": "markdown",
   "metadata": {},
   "source": [
    "### Goal &mdash; segment chest into 8 regions:\n",
    "* spine\n",
    "* left & right lung\n",
    "* left & right subdiaphragm\n",
    "    - area under lungs in abdomen\n",
    "* mediastinum\n",
    "    - area of tissue between lungs\n",
    "* carina\n",
    "    - small point where trachea splits into each bronchus"
   ]
  },
  {
   "cell_type": "markdown",
   "metadata": {},
   "source": [
    "### We trained a U-Net (~8 million learnable paramters) on 328 labeled radiographs, validated on 71, and tested on 70. Data augmentation consisted of a random elastic deformation (warp on 2D grid) followed by a random rotation from -15° to 15°. These operations were applied three times to each training image, increasing the size of the training set 4-fold.\n",
    "\n",
    "--------------"
   ]
  },
  {
   "cell_type": "markdown",
   "metadata": {},
   "source": [
    "## Some good predictions...\n",
    "![im1](Good/good1.png)\n",
    "![im1](Good/good2.png)\n",
    "![im1](Good/good3.png)\n",
    "![im1](Good/good4.png)\n",
    "![im1](Good/good5.png)\n",
    "![im1](Good/good6.png)\n",
    "![im1](Good/good7.png)\n",
    "![im1](Good/good8.png)\n",
    "![im1](Good/good9.png)\n",
    "\n",
    "---------"
   ]
  },
  {
   "cell_type": "markdown",
   "metadata": {},
   "source": [
    "## Some more questionable predictions...\n",
    "\n",
    "### Sometimes the carina is absent:\n",
    "![im](Bad/NoCarina/6.png)\n",
    "![im](Bad/NoCarina/21.png)\n",
    "![im](Bad/NoCarina/26.png)\n",
    "![im](Bad/NoCarina/46.png)\n",
    "![im](Bad/NoCarina/65.png)\n",
    "\n",
    "### Just as frequently, we see multiple carinas:\n",
    "![im](Bad/TwoCarinas/16.png)\n",
    "![im](Bad/TwoCarinas/17.png)\n",
    "![im](Bad/TwoCarinas/18.png)\n",
    "![im](Bad/TwoCarinas/19.png)\n",
    "![im](Bad/TwoCarinas/24.png)\n",
    "![im](Bad/TwoCarinas/68.png)\n",
    "\n",
    "----------"
   ]
  },
  {
   "cell_type": "markdown",
   "metadata": {},
   "source": [
    "## Finally, some poor predictions...\n",
    "![im1](Ugly/2.png)\n",
    "![im1](Ugly/7.png)\n",
    "![im1](Ugly/8.png)\n",
    "![im1](Ugly/ugly1.png)\n",
    "![im1](Ugly/ugly2.png)\n",
    "![im1](Ugly/ugly3.png)\n",
    "![im1](Ugly/ugly4.png)\n",
    "\n",
    "----------"
   ]
  },
  {
   "cell_type": "markdown",
   "metadata": {},
   "source": [
    "## Our best model used data augmentation, and was trained with a weighted categorical cross-entropy loss. Below are some more summary plots for this model...\n",
    "\n",
    "Histograms of performance metrics on test set with mean marked by red dotted line:\n",
    "![acc_hist](accuracy_hist.svg)\n",
    "![dice_hist](dice_hist.svg)\n",
    "\n",
    "Confusion matrix for all pixels in test set $(n=256*256*70=4,587,520$):\n",
    "![cmat](confusion_matrix.svg)"
   ]
  }
 ],
 "metadata": {
  "kernelspec": {
   "display_name": "Python 3",
   "language": "python",
   "name": "python3"
  },
  "language_info": {
   "codemirror_mode": {
    "name": "ipython",
    "version": 3
   },
   "file_extension": ".py",
   "mimetype": "text/x-python",
   "name": "python",
   "nbconvert_exporter": "python",
   "pygments_lexer": "ipython3",
   "version": "3.7.3"
  }
 },
 "nbformat": 4,
 "nbformat_minor": 2
}
